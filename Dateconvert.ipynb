{
 "cells": [
  {
   "cell_type": "code",
   "execution_count": 14,
   "metadata": {},
   "outputs": [
    {
     "name": "stdout",
     "output_type": "stream",
     "text": [
      "UTC TIME: Sep 26 2018 11:59AM\n",
      "CST TIME: Sep 26 2018 06:59AM\n"
     ]
    }
   ],
   "source": [
    "from datetime import datetime\n",
    "from dateutil import tz\n",
    "import sys\n",
    "\n",
    "class DateConvert:\n",
    "\n",
    "    def convert(utc_date):\n",
    "        utc_date = \"9/26/18 11:59\"\n",
    "\n",
    "        ds = datetime.strptime(utc_date, '%m/%d/%y %H:%M')\n",
    "        from_zone = tz.tzutc()\n",
    "        to_zone = tz.tzlocal()\n",
    "\n",
    "        utc = ds.replace(tzinfo=from_zone)\n",
    "        central = utc.astimezone(to_zone)\n",
    "\n",
    "        print(\"UTC TIME: {}\".format(utc.strftime('%b %d %Y %I:%M%p')))\n",
    "        print(\"CST TIME: {}\".format(central.strftime('%b %d %Y %I:%M%p')))\n",
    "        \n",
    "if __name__ == '__main__':\n",
    "    dc = DateConvert()\n",
    "    try:\n",
    "        dc.convert(sys.argv[1])\n",
    "    except Exception as exp:\n",
    "        print(\"Error processing date {}.  Correct format is mm/dd/yy HH(24):MM\\ne.g. 9/26/18 11:59\")"
   ]
  },
  {
   "cell_type": "code",
   "execution_count": null,
   "metadata": {},
   "outputs": [],
   "source": []
  }
 ],
 "metadata": {
  "kernelspec": {
   "display_name": "Python 3",
   "language": "python",
   "name": "python3"
  },
  "language_info": {
   "codemirror_mode": {
    "name": "ipython",
    "version": 3
   },
   "file_extension": ".py",
   "mimetype": "text/x-python",
   "name": "python",
   "nbconvert_exporter": "python",
   "pygments_lexer": "ipython3",
   "version": "3.6.3"
  }
 },
 "nbformat": 4,
 "nbformat_minor": 2
}
